{
 "cells": [
  {
   "cell_type": "markdown",
   "metadata": {},
   "source": [
    "# Programação para Advogados – Trabalho Final\n",
    "\n",
    "Este notebook contém uma análise de dados, apresentada como trabalho de conclusão da matéria *Programação para Advogados* da **FGV Direito-Rio** no semestre 2024.2.\n",
    "\n",
    "## Autores\n",
    "\n",
    "O grupo que produziu esta análise é formado pelos seguintes alunos:\n",
    "\n",
    "- Aluno 1\n",
    "- Aluno 2\n",
    "- ...\n",
    "\n",
    "## Fontes de dados da tabela tratada\n",
    "\n",
    "Os dados utilizados neste trabalho foram obtidos a partir do repositório de dados fornecido pela plataforma [Base dos Dados](https://basedosdados.org/), uma organização não-governamental sem fins lucrativos e open source que atua para universalizar o acesso a dados de qualidade. \n",
    "\n",
    "Esta plataforma disponibiliza, entre outros, um [conjunto de dados do istema de Vigilância Alimentar e Nutricional (Sisvan)](https://basedosdados.org/dataset/d0b61e1c-2ff2-43e7-b32f-5a054ba9b688?table=6e763e07-9b83-487e-9135-fca7872b1f16), que foi escolhido para a nossa análise. Trata-se de um conjunto de dados disponibilizado pelo Ministério da Saúde que traz informações sobre a Vigilância Alimentar e Nutricional (VAN) nos serviços de saúde da Atenção Básica, incluindo a avaliação antropométrica (medidas corporais) e do consumo alimentar. \n",
    "\n",
    "Desta fonte, selecionamos dados referentes à altura, peso e imc de indivíduos 753.660 atendimentos realizados com idosos (indivíduos com 65 anos ou mais) no município do Rio de Janeiro, entre 2014 e 2023. Durante o tratamento dos dados, foram excluídos da base os registros de pesos considerados *outliers*, excessivamente baixos ou altos (tomando-se como referência os quantis de 0,01% e de 99,9%, respectivamente).\n",
    "\n",
    "\n",
    "## Variáveis da tabela tratada\n",
    "\n",
    "A partir das fontes acima descritas, foi produzida uma tabela tratada, que possui as seguintes colunas:\n",
    "\n",
    "- `ano`: Ano do período de análise em que foi realizado o acompanhamento, variando de 2014 a 2023.\n",
    "- `data_acompanhamento`: Data em que foi realizado o acompanhamento, no formato \"AAAA-MM-DD\".\n",
    "- `idade`: Idade do indivíduo (a partir de 65 anos).\n",
    "- `sexo`: Sexo do indivíduo (M - Masculino, F - Feminino).\n",
    "- `raca_cor`: Identificação de raça ou cor do indivíduo.\n",
    "- `peso`: Peso, em quilos, do indivíduo.\n",
    "- `altura`: Altura, em centímetros, do indivíduo.\n",
    "- `imc`:  Índice de Massa Corporal do indivíduo.\n",
    "\n",
    "## Análise dos dados\n",
    "\n",
    "O código a seguir carrega as bibliotecas utilizadas na análise e baixa a tabela já tratada que contém as informações acima descritas, as quais serão utilizadas neste trabalho."
   ]
  },
  {
   "cell_type": "code",
   "execution_count": 1,
   "metadata": {},
   "outputs": [
    {
     "name": "stdout",
     "output_type": "stream",
     "text": [
      "<class 'pandas.core.frame.DataFrame'>\n",
      "RangeIndex: 753660 entries, 0 to 753659\n",
      "Data columns (total 8 columns):\n",
      " #   Column               Non-Null Count   Dtype  \n",
      "---  ------               --------------   -----  \n",
      " 0   ano                  753660 non-null  int64  \n",
      " 1   data_acompanhamento  753660 non-null  object \n",
      " 2   idade                753660 non-null  int64  \n",
      " 3   sexo                 753660 non-null  object \n",
      " 4   raca_cor             753660 non-null  object \n",
      " 5   peso                 753660 non-null  float64\n",
      " 6   altura               753660 non-null  float64\n",
      " 7   imc                  753660 non-null  float64\n",
      "dtypes: float64(3), int64(2), object(3)\n",
      "memory usage: 46.0+ MB\n",
      "None\n"
     ]
    },
    {
     "data": {
      "text/html": [
       "<div>\n",
       "<style scoped>\n",
       "    .dataframe tbody tr th:only-of-type {\n",
       "        vertical-align: middle;\n",
       "    }\n",
       "\n",
       "    .dataframe tbody tr th {\n",
       "        vertical-align: top;\n",
       "    }\n",
       "\n",
       "    .dataframe thead th {\n",
       "        text-align: right;\n",
       "    }\n",
       "</style>\n",
       "<table border=\"1\" class=\"dataframe\">\n",
       "  <thead>\n",
       "    <tr style=\"text-align: right;\">\n",
       "      <th></th>\n",
       "      <th>ano</th>\n",
       "      <th>data_acompanhamento</th>\n",
       "      <th>idade</th>\n",
       "      <th>sexo</th>\n",
       "      <th>raca_cor</th>\n",
       "      <th>peso</th>\n",
       "      <th>altura</th>\n",
       "      <th>imc</th>\n",
       "    </tr>\n",
       "  </thead>\n",
       "  <tbody>\n",
       "    <tr>\n",
       "      <th>0</th>\n",
       "      <td>2023</td>\n",
       "      <td>2023-10-17</td>\n",
       "      <td>70</td>\n",
       "      <td>M</td>\n",
       "      <td>Sem informacao</td>\n",
       "      <td>76.0</td>\n",
       "      <td>176.0</td>\n",
       "      <td>24.54</td>\n",
       "    </tr>\n",
       "    <tr>\n",
       "      <th>1</th>\n",
       "      <td>2023</td>\n",
       "      <td>2023-10-18</td>\n",
       "      <td>62</td>\n",
       "      <td>F</td>\n",
       "      <td>Parda</td>\n",
       "      <td>58.1</td>\n",
       "      <td>149.0</td>\n",
       "      <td>26.17</td>\n",
       "    </tr>\n",
       "    <tr>\n",
       "      <th>2</th>\n",
       "      <td>2023</td>\n",
       "      <td>2023-10-18</td>\n",
       "      <td>79</td>\n",
       "      <td>F</td>\n",
       "      <td>Sem informacao</td>\n",
       "      <td>57.3</td>\n",
       "      <td>151.0</td>\n",
       "      <td>25.13</td>\n",
       "    </tr>\n",
       "    <tr>\n",
       "      <th>3</th>\n",
       "      <td>2023</td>\n",
       "      <td>2023-02-05</td>\n",
       "      <td>66</td>\n",
       "      <td>M</td>\n",
       "      <td>Sem informacao</td>\n",
       "      <td>112.0</td>\n",
       "      <td>180.0</td>\n",
       "      <td>34.57</td>\n",
       "    </tr>\n",
       "    <tr>\n",
       "      <th>4</th>\n",
       "      <td>2023</td>\n",
       "      <td>2023-10-19</td>\n",
       "      <td>67</td>\n",
       "      <td>F</td>\n",
       "      <td>Amarela</td>\n",
       "      <td>68.6</td>\n",
       "      <td>153.0</td>\n",
       "      <td>29.30</td>\n",
       "    </tr>\n",
       "  </tbody>\n",
       "</table>\n",
       "</div>"
      ],
      "text/plain": [
       "    ano data_acompanhamento  idade sexo        raca_cor   peso  altura    imc\n",
       "0  2023          2023-10-17     70    M  Sem informacao   76.0   176.0  24.54\n",
       "1  2023          2023-10-18     62    F           Parda   58.1   149.0  26.17\n",
       "2  2023          2023-10-18     79    F  Sem informacao   57.3   151.0  25.13\n",
       "3  2023          2023-02-05     66    M  Sem informacao  112.0   180.0  34.57\n",
       "4  2023          2023-10-19     67    F         Amarela   68.6   153.0  29.30"
      ]
     },
     "execution_count": 1,
     "metadata": {},
     "output_type": "execute_result"
    }
   ],
   "source": [
    "import pandas as pd\n",
    "import matplotlib.pyplot as plt\n",
    "import seaborn as sns\n",
    "\n",
    "df = pd.read_csv(\"https://bit.ly/prog24_df2\")\n",
    "\n",
    "print(df.info())\n",
    "df.head()"
   ]
  },
  {
   "cell_type": "markdown",
   "metadata": {},
   "source": [
    "### Gráfico 1 – [TÍTULO]\n",
    "\n",
    "- **Dupla responsável:**\n",
    "  - Aluno 1\n",
    "  - Aluno 2\n",
    "\n",
    "[DESCRIÇÃO DO GRÁFICO 1]"
   ]
  },
  {
   "cell_type": "code",
   "execution_count": null,
   "metadata": {},
   "outputs": [],
   "source": [
    "## Código do gráfico 1\n"
   ]
  },
  {
   "cell_type": "markdown",
   "metadata": {},
   "source": [
    "### Gráfico 2 – [TÍTULO]\n",
    "\n",
    "- **Dupla responsável:**\n",
    "  - Aluno 1\n",
    "  - Aluno 2\n",
    "\n",
    "[DESCRIÇÃO DO GRÁFICO 2]"
   ]
  },
  {
   "cell_type": "code",
   "execution_count": null,
   "metadata": {},
   "outputs": [],
   "source": [
    "## Código do gráfico 2\n"
   ]
  },
  {
   "cell_type": "markdown",
   "metadata": {},
   "source": [
    "### Gráfico 3 – [TÍTULO]\n",
    "\n",
    "- **Dupla responsável:**\n",
    "  - Aluno 1\n",
    "  - Aluno 2\n",
    "\n",
    "[DESCRIÇÃO DO GRÁFICO 3]"
   ]
  },
  {
   "cell_type": "code",
   "execution_count": null,
   "metadata": {},
   "outputs": [],
   "source": [
    "## Código do gráfico 3\n"
   ]
  },
  {
   "cell_type": "markdown",
   "metadata": {},
   "source": [
    "### Gráfico 4 – [TÍTULO]\n",
    "\n",
    "- **Dupla responsável:**\n",
    "  - Aluno 1\n",
    "  - Aluno 2\n",
    "\n",
    "[DESCRIÇÃO DO GRÁFICO 4]"
   ]
  },
  {
   "cell_type": "code",
   "execution_count": null,
   "metadata": {},
   "outputs": [],
   "source": [
    "## Código do gráfico 4\n"
   ]
  },
  {
   "cell_type": "markdown",
   "metadata": {},
   "source": [
    "### Conclusões\n",
    "\n",
    "[DESCRIÇÃO DAS CONCLUSÕES]"
   ]
  }
 ],
 "metadata": {
  "kernelspec": {
   "display_name": "base",
   "language": "python",
   "name": "python3"
  },
  "language_info": {
   "codemirror_mode": {
    "name": "ipython",
    "version": 3
   },
   "file_extension": ".py",
   "mimetype": "text/x-python",
   "name": "python",
   "nbconvert_exporter": "python",
   "pygments_lexer": "ipython3",
   "version": "3.12.4"
  }
 },
 "nbformat": 4,
 "nbformat_minor": 2
}
