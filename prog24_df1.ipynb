{
 "cells": [
  {
   "cell_type": "markdown",
   "metadata": {},
   "source": [
    "# Programação para Advogados – Trabalho Final\n",
    "\n",
    "Este notebook contém uma análise de dados, apresentada como trabalho de conclusão da matéria *Programação para Advogados* da **FGV Direito-Rio** no semestre 2024.2.\n",
    "\n",
    "## Autores\n",
    "\n",
    "O grupo que produziu esta análise é formado pelos seguintes alunos:\n",
    "\n",
    "- Aluno 1\n",
    "- Aluno 2\n",
    "- ...\n",
    "\n",
    "## Fontes de dados da tabela tratada\n",
    "\n",
    "Os dados utilizados neste trabalho foram obtidos a partir do repositório de dados fornecido pela plataforma [Base dos Dados](https://basedosdados.org/), uma organização não-governamental sem fins lucrativos e open source que atua para universalizar o acesso a dados de qualidade. \n",
    "\n",
    "Esta plataforma disponibiliza, entre outros, um [conjunto de dados do Sistema de Informações Contábeis e Fiscais do Setor Público Brasileiro (Sisconfi)](https://basedosdados.org/dataset/5a3dec52-8740-460e-b31d-0e0347979da0?table=ee51f2d3-c5fb-4ff3-a6e2-fe4bbdcc46c8), que foi escolhido para a nossa análise. O Sistema de Informações Contábeis e Fiscais do Setor Público Brasileiro (Siconfi) foi desenvolvido como um instrumento para, dentre outros objetivos, facilitar a produção e análise de informações contábeis e fiscais, padronizar os mecanismos de consolidação e aumentar a qualidade e confiabilidade das informações contábeis, financeiras e de estatísticas fiscais recebidas dos municípios, estados, Distrito Federal e União.\n",
    "\n",
    "Desta fonte, selecionamos dados referentes às despesas pagas e receitas brutas realizadas por todos os munícipios brasileiros entre os 2000 e 2022. Estas informações foram complementadas por [dados do IBGE](https://basedosdados.org/dataset/d30222ad-7a5c-4778-a1ec-f0785371d1ca?table=2440d076-8934-471f-8cbe-51faae387c66) acerca da população dos respectivos municípios no período.\n",
    "\n",
    "\n",
    "## Variáveis da tabela tratada\n",
    "\n",
    "A partir das fontes acima descritas, foi produzida uma tabela tratada, que possui as seguintes colunas:\n",
    "\n",
    "- `ano`: Ano de referência do período de análise, que vai de 2000 a 2022.\n",
    "- `sigla_uf`: Sigla da Unidade Federativa na qual se encontra o município.\n",
    "- `id_municipio`: Identificador único do município.\n",
    "- `id_municipio_nome`: Nome próprio do município referente ao identificador.\n",
    "- `despesas_pagas`: Valor total, em moeda corrente, das contas orçamentárias de despesa em estágio de \"despesas pagas\", no município e no ano de referência.\n",
    "- `receitas_brutas_realizadas`: Valor total, em moeda corrente, das contas orçamentárias de receita em estágio de \"receitas brutas realizadas\", no município e no ano de referência.\n",
    "- `populacao`: Estimativa do IBGE da população do município (número de indivíduos) no ano de referência.\n",
    "\n",
    "## Análise dos dados\n",
    "\n",
    "O código a seguir carrega as bibliotecas utilizadas na análise e baixa a tabela já tratada que contém as informações acima descritas, as quais serão utilizadas neste trabalho."
   ]
  },
  {
   "cell_type": "code",
   "execution_count": 2,
   "metadata": {},
   "outputs": [
    {
     "name": "stdout",
     "output_type": "stream",
     "text": [
      "<class 'pandas.core.frame.DataFrame'>\n",
      "RangeIndex: 76159 entries, 0 to 76158\n",
      "Data columns (total 7 columns):\n",
      " #   Column                      Non-Null Count  Dtype  \n",
      "---  ------                      --------------  -----  \n",
      " 0   ano                         76159 non-null  int64  \n",
      " 1   sigla_uf                    76159 non-null  object \n",
      " 2   id_municipio                76159 non-null  int64  \n",
      " 3   id_municipio_nome           76159 non-null  object \n",
      " 4   despesas_pagas              76159 non-null  float64\n",
      " 5   receitas_brutas_realizadas  76159 non-null  float64\n",
      " 6   populacao                   76157 non-null  float64\n",
      "dtypes: float64(3), int64(2), object(2)\n",
      "memory usage: 4.1+ MB\n",
      "None\n"
     ]
    },
    {
     "data": {
      "text/html": [
       "<div>\n",
       "<style scoped>\n",
       "    .dataframe tbody tr th:only-of-type {\n",
       "        vertical-align: middle;\n",
       "    }\n",
       "\n",
       "    .dataframe tbody tr th {\n",
       "        vertical-align: top;\n",
       "    }\n",
       "\n",
       "    .dataframe thead th {\n",
       "        text-align: right;\n",
       "    }\n",
       "</style>\n",
       "<table border=\"1\" class=\"dataframe\">\n",
       "  <thead>\n",
       "    <tr style=\"text-align: right;\">\n",
       "      <th></th>\n",
       "      <th>ano</th>\n",
       "      <th>sigla_uf</th>\n",
       "      <th>id_municipio</th>\n",
       "      <th>id_municipio_nome</th>\n",
       "      <th>despesas_pagas</th>\n",
       "      <th>receitas_brutas_realizadas</th>\n",
       "      <th>populacao</th>\n",
       "    </tr>\n",
       "  </thead>\n",
       "  <tbody>\n",
       "    <tr>\n",
       "      <th>0</th>\n",
       "      <td>2009</td>\n",
       "      <td>AC</td>\n",
       "      <td>1200013</td>\n",
       "      <td>Acrelândia</td>\n",
       "      <td>7.852280e+07</td>\n",
       "      <td>1.121651e+08</td>\n",
       "      <td>12241.0</td>\n",
       "    </tr>\n",
       "    <tr>\n",
       "      <th>1</th>\n",
       "      <td>2009</td>\n",
       "      <td>AC</td>\n",
       "      <td>1200054</td>\n",
       "      <td>Assis Brasil</td>\n",
       "      <td>4.862005e+07</td>\n",
       "      <td>7.029222e+07</td>\n",
       "      <td>5662.0</td>\n",
       "    </tr>\n",
       "    <tr>\n",
       "      <th>2</th>\n",
       "      <td>2009</td>\n",
       "      <td>AC</td>\n",
       "      <td>1200104</td>\n",
       "      <td>Brasiléia</td>\n",
       "      <td>1.157248e+08</td>\n",
       "      <td>1.706594e+08</td>\n",
       "      <td>20238.0</td>\n",
       "    </tr>\n",
       "    <tr>\n",
       "      <th>3</th>\n",
       "      <td>2009</td>\n",
       "      <td>AC</td>\n",
       "      <td>1200138</td>\n",
       "      <td>Bujari</td>\n",
       "      <td>3.827078e+07</td>\n",
       "      <td>7.029219e+07</td>\n",
       "      <td>6772.0</td>\n",
       "    </tr>\n",
       "    <tr>\n",
       "      <th>4</th>\n",
       "      <td>2009</td>\n",
       "      <td>AC</td>\n",
       "      <td>1200179</td>\n",
       "      <td>Capixaba</td>\n",
       "      <td>4.852185e+07</td>\n",
       "      <td>6.940647e+07</td>\n",
       "      <td>9287.0</td>\n",
       "    </tr>\n",
       "  </tbody>\n",
       "</table>\n",
       "</div>"
      ],
      "text/plain": [
       "    ano sigla_uf  id_municipio id_municipio_nome  despesas_pagas  \\\n",
       "0  2009       AC       1200013        Acrelândia    7.852280e+07   \n",
       "1  2009       AC       1200054      Assis Brasil    4.862005e+07   \n",
       "2  2009       AC       1200104         Brasiléia    1.157248e+08   \n",
       "3  2009       AC       1200138            Bujari    3.827078e+07   \n",
       "4  2009       AC       1200179          Capixaba    4.852185e+07   \n",
       "\n",
       "   receitas_brutas_realizadas  populacao  \n",
       "0                1.121651e+08    12241.0  \n",
       "1                7.029222e+07     5662.0  \n",
       "2                1.706594e+08    20238.0  \n",
       "3                7.029219e+07     6772.0  \n",
       "4                6.940647e+07     9287.0  "
      ]
     },
     "execution_count": 2,
     "metadata": {},
     "output_type": "execute_result"
    }
   ],
   "source": [
    "import pandas as pd\n",
    "import matplotlib.pyplot as plt\n",
    "import seaborn as sns\n",
    "\n",
    "df = pd.read_csv(\"https://bit.ly/prog24_df1\")\n",
    "\n",
    "print(df.info())\n",
    "df.head()"
   ]
  },
  {
   "cell_type": "markdown",
   "metadata": {},
   "source": [
    "### Gráfico 1 – [TÍTULO]\n",
    "\n",
    "- **Dupla responsável:**\n",
    "  - Aluno 1\n",
    "  - Aluno 2\n",
    "\n",
    "[DESCRIÇÃO DO GRÁFICO 1]"
   ]
  },
  {
   "cell_type": "code",
   "execution_count": null,
   "metadata": {},
   "outputs": [],
   "source": [
    "## Código do gráfico 1\n"
   ]
  },
  {
   "cell_type": "markdown",
   "metadata": {},
   "source": [
    "### Gráfico 2 – [TÍTULO]\n",
    "\n",
    "- **Dupla responsável:**\n",
    "  - Aluno 1\n",
    "  - Aluno 2\n",
    "\n",
    "[DESCRIÇÃO DO GRÁFICO 2]"
   ]
  },
  {
   "cell_type": "code",
   "execution_count": null,
   "metadata": {},
   "outputs": [],
   "source": [
    "## Código do gráfico 2\n"
   ]
  },
  {
   "cell_type": "markdown",
   "metadata": {},
   "source": [
    "### Gráfico 3 – [TÍTULO]\n",
    "\n",
    "- **Dupla responsável:**\n",
    "  - Aluno 1\n",
    "  - Aluno 2\n",
    "\n",
    "[DESCRIÇÃO DO GRÁFICO 3]"
   ]
  },
  {
   "cell_type": "code",
   "execution_count": null,
   "metadata": {},
   "outputs": [],
   "source": [
    "## Código do gráfico 3\n"
   ]
  },
  {
   "cell_type": "markdown",
   "metadata": {},
   "source": [
    "### Gráfico 4 – [TÍTULO]\n",
    "\n",
    "- **Dupla responsável:**\n",
    "  - Aluno 1\n",
    "  - Aluno 2\n",
    "\n",
    "[DESCRIÇÃO DO GRÁFICO 4]"
   ]
  },
  {
   "cell_type": "code",
   "execution_count": null,
   "metadata": {},
   "outputs": [],
   "source": [
    "## Código do gráfico 4\n"
   ]
  },
  {
   "cell_type": "markdown",
   "metadata": {},
   "source": [
    "### Conclusões\n",
    "\n",
    "[DESCRIÇÃO DAS CONCLUSÕES]"
   ]
  }
 ],
 "metadata": {
  "kernelspec": {
   "display_name": "base",
   "language": "python",
   "name": "python3"
  },
  "language_info": {
   "codemirror_mode": {
    "name": "ipython",
    "version": 3
   },
   "file_extension": ".py",
   "mimetype": "text/x-python",
   "name": "python",
   "nbconvert_exporter": "python",
   "pygments_lexer": "ipython3",
   "version": "3.12.4"
  }
 },
 "nbformat": 4,
 "nbformat_minor": 2
}
